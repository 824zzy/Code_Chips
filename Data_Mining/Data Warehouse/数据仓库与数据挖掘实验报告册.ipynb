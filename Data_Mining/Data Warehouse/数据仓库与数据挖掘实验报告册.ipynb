{
  "nbformat": 4,
  "nbformat_minor": 0,
  "metadata": {
    "colab": {
      "name": "数据仓库与数据挖掘实验报告册.ipynb",
      "version": "0.3.2",
      "provenance": [],
      "collapsed_sections": []
    },
    "kernelspec": {
      "name": "python3",
      "display_name": "Python 3"
    }
  },
  "cells": [
    {
      "metadata": {
        "id": "yDySh8Q4BQWr",
        "colab_type": "text"
      },
      "cell_type": "markdown",
      "source": [
        "# 《数据仓库与数据挖掘》 实验报告册\n",
        "### Copyright 2018 The BUPT Zhengyuan Zhu.\n",
        "Licensed under the Apache License, Version 2.0 (the \"License\").\n",
        "\n",
        "### Affilication: BUPT(Beijing University of Posts and Telecommunications)\n",
        "### Author:824zzy(计算机学院-2018140455-朱正源)\n",
        "### References\n",
        "- [设计并构造AdventureWorks数据仓库实例](https://wenku.baidu.com/view/573ed3c4970590c69ec3d5bbfd0a79563c1ed4dd.html)\n",
        "\n",
        "----\n",
        "\n",
        "2018-2019学年 第一学期\n",
        "\n",
        "班级：二班\n",
        "\n",
        "学号：2018140455\n",
        "\n",
        "姓名：朱正源\n",
        "\n",
        "实验学时：4"
      ]
    },
    {
      "metadata": {
        "id": "HdR2y9RdEcDw",
        "colab_type": "text"
      },
      "cell_type": "markdown",
      "source": [
        "## 实验目的\n",
        "在 SQL Server 平台上，利用AdventureWorks 数据库作为商业智能解决方案的数据源，设计并构造数据仓库，建立 OLAP 和数据挖掘模型，并以输出报表的形式满足决策支持的查询需求。"
      ]
    },
    {
      "metadata": {
        "id": "fUPDej0sFqgq",
        "colab_type": "text"
      },
      "cell_type": "markdown",
      "source": [
        "## 实验环境及工具\n",
        "实验环境：win10系统\n",
        "\n",
        "实验工具：\n",
        "- Microsoft SQL Server 2008\n",
        "- Microsoft Visual Studio 2008\n",
        "- Business Intelligence Development Studio 2008"
      ]
    },
    {
      "metadata": {
        "id": "lujQGT4vGV8y",
        "colab_type": "text"
      },
      "cell_type": "markdown",
      "source": [
        "## 实验内容\n",
        "步骤1：需求分析：以决策者的视角分析和设计数据仓库的需求； \n",
        "\n",
        "步骤2：根据所设计的需求，确定本数据仓库的主题和主题与边界； \n",
        "\n",
        "步骤3：设计并构造逻辑模型；  \n",
        "\n",
        "步骤4：进行数据转换和抽取，建立数据仓库：创建数据源，建立OLAP和挖掘模型，使用多维数据集进行分析，建立数据挖掘结构和数据挖掘模型，创建报表。"
      ]
    },
    {
      "metadata": {
        "id": "hLz9yCxVXAGt",
        "colab_type": "text"
      },
      "cell_type": "markdown",
      "source": [
        "## 实验步骤"
      ]
    },
    {
      "metadata": {
        "id": "TG69cYQmR-TW",
        "colab_type": "text"
      },
      "cell_type": "markdown",
      "source": [
        "### 1. 启动managment studio，连接本地数据库\n",
        "\n",
        "![](http://ww1.sinaimg.cn/mw690/ca26ff18ly1fz8ugj2awyj211y0kg0vd.jpg)"
      ]
    },
    {
      "metadata": {
        "id": "hoAGZgrVYXa4",
        "colab_type": "text"
      },
      "cell_type": "markdown",
      "source": [
        "### 2. 配置ODBC数据源\n",
        "\n",
        "![](http://ww1.sinaimg.cn/mw690/ca26ff18ly1fz8un4dm6vj20sj0frdjr.jpg)\n",
        "\n",
        "![](http://ww1.sinaimg.cn/mw690/ca26ff18ly1fz8urt4p3sj20gt0d375n.jpg)\n",
        "\n",
        "![](http://ww1.sinaimg.cn/mw690/ca26ff18ly1fz8ussy1f4j20jl0f4t9l.jpg)\n",
        "\n",
        "![](http://ww1.sinaimg.cn/mw690/ca26ff18ly1fz8utmb9hnj20oe0k8wgc.jpg)"
      ]
    },
    {
      "metadata": {
        "id": "Hy1uPaH1YZqq",
        "colab_type": "text"
      },
      "cell_type": "markdown",
      "source": [
        "### 3.  bug:如果使用非2008版本的Business Intelligence for Visual Studio则会报错\n",
        "\n",
        "2012版：\n",
        "![](http://ww1.sinaimg.cn/large/ca26ff18ly1fz8vbvpqsmj20dj055gll.jpg)\n",
        "\n",
        "2014版：\n",
        "![](http://ww1.sinaimg.cn/large/ca26ff18ly1fz8vdx2lrjj20dj04pwef.jpg)"
      ]
    },
    {
      "metadata": {
        "id": "4StD-JbJZ12P",
        "colab_type": "text"
      },
      "cell_type": "markdown",
      "source": [
        "### 4. 使用2008版本的Business Intelligence for Visual Studio成功建立项目\n",
        "\n",
        "![](http://ww1.sinaimg.cn/large/ca26ff18ly1fz8vfrt4pxj207206rjrk.jpg)"
      ]
    },
    {
      "metadata": {
        "id": "ZHgFo0zKa8_m",
        "colab_type": "text"
      },
      "cell_type": "markdown",
      "source": [
        "### 5. 把Adventure work.mdf导入Sql Server2008\n",
        "运行AdventureWorks sql server 2005示例数据库.msi，然后用SQL Server Management Studio 附加数据库AdventureWorks_Data.mdf \n",
        "\n",
        "![](http://ww1.sinaimg.cn/mw690/ca26ff18ly1fz8vkqu1vxj20750ffgm5.jpg)"
      ]
    },
    {
      "metadata": {
        "id": "gQYCEeKhdR2L",
        "colab_type": "text"
      },
      "cell_type": "markdown",
      "source": [
        "### 6. 将Adventure work数据库链接至Business Intelligence\n",
        "\n",
        "![](http://ww1.sinaimg.cn/mw690/ca26ff18ly1fz8vn0ydymj20gy0jjq41.jpg)"
      ]
    },
    {
      "metadata": {
        "id": "gXCRCiEadUH-",
        "colab_type": "text"
      },
      "cell_type": "markdown",
      "source": [
        "### 7. 建立数据源视图\n",
        "\n",
        "![](http://ww1.sinaimg.cn/mw690/ca26ff18ly1fz8vom9s5zj211y0kgmyr.jpg)\n",
        "\n",
        "![](http://ww1.sinaimg.cn/mw690/ca26ff18ly1fz8vpmsd6uj206x0hiaak.jpg)\n",
        "\n",
        "![](http://ww1.sinaimg.cn/mw690/ca26ff18ly1fz8vqw5uj5j211y0kgq6h.jpg)"
      ]
    },
    {
      "metadata": {
        "id": "HtH-qnhJdWft",
        "colab_type": "text"
      },
      "cell_type": "markdown",
      "source": [
        "### 8. 建立并处理维表\n",
        "\n",
        "![](http://ww1.sinaimg.cn/mw690/ca26ff18ly1fz8vsnzy3nj20hs0g7js4.jpg)\n",
        "\n",
        "![](http://ww1.sinaimg.cn/mw690/ca26ff18ly1fz8vtwbmxzj211y0kgwhf.jpg)\n",
        "\n",
        "![](http://ww1.sinaimg.cn/mw690/ca26ff18ly1fz8vwd0z57j211f0k1acw.jpg)"
      ]
    },
    {
      "metadata": {
        "id": "8EHwXNmOd39d",
        "colab_type": "text"
      },
      "cell_type": "markdown",
      "source": [
        "### 9. 构建多维数据集\n",
        "\n",
        "![](http://ww1.sinaimg.cn/large/ca26ff18ly1fz8vxplq3gj20hs0g7gmz.jpg)\n",
        "\n",
        "![](http://ww1.sinaimg.cn/large/ca26ff18ly1fz8vyp35wbj211j0jydkm.jpg)"
      ]
    },
    {
      "metadata": {
        "id": "wjvQJJIceXdD",
        "colab_type": "text"
      },
      "cell_type": "markdown",
      "source": [
        "### 10. 创建数据挖掘结构\n",
        "\n",
        "![](http://ww1.sinaimg.cn/large/ca26ff18ly1fz8w1xysqnj20hs0g7wfi.jpg)\n",
        "\n",
        "![](http://ww1.sinaimg.cn/large/ca26ff18ly1fz8w2pkej7j20hs0g70tj.jpg)\n",
        "\n",
        "![](http://ww1.sinaimg.cn/large/ca26ff18ly1fz8w3dmqomj211y0kgq4m.jpg)"
      ]
    },
    {
      "metadata": {
        "id": "lKoZ_onGjtAn",
        "colab_type": "text"
      },
      "cell_type": "markdown",
      "source": [
        "### 11. 建立数据挖掘模型\n",
        "\n",
        "![](http://ww1.sinaimg.cn/large/ca26ff18ly1fz8w3xp6s5j211y0kg0uf.jpg)\n",
        "\n",
        "![](http://ww1.sinaimg.cn/large/ca26ff18ly1fz8w4gohsfj211y0kgn1f.jpg)"
      ]
    },
    {
      "metadata": {
        "id": "PpSf1R_yiS2n",
        "colab_type": "text"
      },
      "cell_type": "markdown",
      "source": [
        "### 12. 创建查询及查询结果\n",
        "\n",
        "![](http://ww1.sinaimg.cn/large/ca26ff18ly1fz8w5asw45j211p0k9jun.jpg)\n",
        "\n",
        "![](http://ww1.sinaimg.cn/large/ca26ff18ly1fz8wq5nb1kj216w05ojsw.jpg)\n",
        "\n",
        "![](http://ww1.sinaimg.cn/mw690/ca26ff18ly1fz8wsyqyvgj20yi0eowgn.jpg)"
      ]
    },
    {
      "metadata": {
        "id": "D2ShFClRYikR",
        "colab_type": "text"
      },
      "cell_type": "markdown",
      "source": [
        "## 附录：实验过程中的其他细节"
      ]
    },
    {
      "metadata": {
        "id": "nkiXcsusYqd_",
        "colab_type": "text"
      },
      "cell_type": "markdown",
      "source": [
        "### Food Mart数据库展示\n",
        "\n",
        "![](http://ww1.sinaimg.cn/large/ca26ff18ly1fz8v1ahv92j20tv0fjwfg.jpg)"
      ]
    },
    {
      "metadata": {
        "id": "nPmYxF7gI6Ss",
        "colab_type": "text"
      },
      "cell_type": "markdown",
      "source": [
        "## 实验中失败的尝试：在mac系统下使用docker进行本实验"
      ]
    },
    {
      "metadata": {
        "id": "9sEWG_PVI_8U",
        "colab_type": "text"
      },
      "cell_type": "markdown",
      "source": [
        "1. 启动docker\n",
        "\n",
        "![](http://ww1.sinaimg.cn/mw690/ca26ff18ly1fz8thrwr72j20di0jc40d.jpg)\n",
        "\n",
        "2. 运行sql server2017镜像\n",
        "\n",
        "![](http://ww1.sinaimg.cn/mw690/ca26ff18ly1fz8tkbp12aj219w02c0su.jpg)\n",
        "\n",
        "3. 启动Kitematic下的sqlserver服务器\n",
        "\n",
        "![](http://ww1.sinaimg.cn/large/ca26ff18ly1fz8tpjb00kj22rk1sknpd.jpg)\n",
        "\n",
        "4. 启动sqlserver客户端\n",
        "\n",
        "![](http://ww1.sinaimg.cn/large/ca26ff18ly1fz8tqw00fcj20ia05aaa1.jpg)\n",
        "\n",
        "5. 安装可视化平台：Azure Data Studio\n",
        "\n",
        "![](http://ww1.sinaimg.cn/large/ca26ff18ly1fz8ttpgko5j21r41cwk5u.jpg)\n",
        "\n",
        "6. 在Azure Data Studio内启动本地服务\n",
        "\n",
        "![](http://ww1.sinaimg.cn/large/ca26ff18ly1fz8tvbbv4bj22e81iyqks.jpg)\n",
        "\n",
        "问题所在：由于sqlserver镜像内的容器无法读取本地数据库.bak文件，因此在mac系统的docker容器下进行试验的尝试不太顺利。\n",
        "\n",
        "最终不得已选择在windows系统下的sqlserver2008环境下进行实验。"
      ]
    }
  ]
}